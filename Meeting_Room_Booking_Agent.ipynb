{
 "cells": [
  {
   "cell_type": "code",
   "execution_count": 26,
   "id": "029deace",
   "metadata": {},
   "outputs": [],
   "source": [
    "import json\n",
    "import datetime\n",
    "\n",
    "from langgraph.graph import StateGraph, END\n",
    "from langchain_core.messages import HumanMessage, SystemMessage # AIMessage, ToolMessage (not explicitly used in this simplified version)\n",
    "from langchain.output_parsers import PydanticOutputParser\n",
    "\n",
    "from datetime import datetime\n",
    "from IPython.display import display, JSON, Markdown, Image\n",
    "\n",
    "# from langchain_core.pydantic_v1 import BaseModel, Field # Simplified parsing won't use Pydantic tools for this version"
   ]
  },
  {
   "cell_type": "code",
   "execution_count": 2,
   "id": "66cf49fc",
   "metadata": {},
   "outputs": [],
   "source": [
    "# from src.config import Config\n",
    "from src.mock_apis import room_services, booking_services\n",
    "from src.schemas import AgentState, BookingRequest\n",
    "from src.helper import get_llm, apply_prompt_template"
   ]
  },
  {
   "cell_type": "code",
   "execution_count": 16,
   "id": "25fd7ab8",
   "metadata": {},
   "outputs": [],
   "source": [
    "def parse_request(state: AgentState) -> AgentState:\n",
    "    print(\"---NODE: PARSE REQUEST---\")\n",
    "    # initialize parser\n",
    "    parser = PydanticOutputParser(pydantic_object=BookingRequest)\n",
    "    # apply my predefined prompt template\n",
    "    prompt_template = apply_prompt_template(parser)\n",
    "    # get the current date and time\n",
    "    current_date = datetime.now().strftime('%Y-%m-%dT%H:%M:%S')\n",
    "    # define LLM and the Chain\n",
    "    llm = get_llm(name=\"groq\")\n",
    "    chain = prompt_template | llm | parser\n",
    "    parsed_data = chain.invoke({\"user_request\": state[\"original_request\"],\n",
    "                                    \"current_date\": current_date})\n",
    "    print(\"Parsed data:\", parsed_data)\n",
    "    state.update({\n",
    "            \"parsed_request\": parsed_data.model_dump(),\n",
    "            \"clarification_needed\": parsed_data.clarification_needed,\n",
    "            \"clarification_question\": parsed_data.clarification_question,\n",
    "            \"user_name_for_booking\": parsed_data.user_name,\n",
    "            \"\"\n",
    "            \"error_message\": None\n",
    "        })\n",
    "        \n",
    "    return state"
   ]
  },
  {
   "cell_type": "code",
   "execution_count": 4,
   "id": "17a9e608",
   "metadata": {},
   "outputs": [],
   "source": [
    "# Check if request is valid and clear\n",
    "def is_clear_request(state: AgentState) -> str:\n",
    "    print(\"---CONDITION: Check Valid and Clear Request---\")\n",
    "    if state.get(\"error_message\"):\n",
    "        print(\"----> Error detected\")\n",
    "        return \"handle_error\"\n",
    "    elif state.get(\"clarification_needed\"):\n",
    "        print(\"----> Clarification needed\")\n",
    "        return \"ask_clarification\"\n",
    "    else:\n",
    "        print(\"----> Ready to book room\")\n",
    "        return \"book_room\""
   ]
  },
  {
   "cell_type": "code",
   "execution_count": 5,
   "id": "73d76c72",
   "metadata": {},
   "outputs": [],
   "source": [
    "def ask_clarification(state: AgentState) -> AgentState:\n",
    "    print(\"---NODE: ASK CLARIFICATION---\")\n",
    "    state[\"final_response_to_user\"] = state[\"clarification_question\"]\n",
    "    return state"
   ]
  },
  {
   "cell_type": "code",
   "execution_count": 6,
   "id": "fdae10d2",
   "metadata": {},
   "outputs": [],
   "source": [
    "def book_room(state: AgentState) -> AgentState:\n",
    "    # In a real workflow, you'd call your booking API here\n",
    "    state[\"final_response_to_user\"] = \"Booking room...\"\n",
    "    return state"
   ]
  },
  {
   "cell_type": "code",
   "execution_count": 22,
   "id": "2243412a",
   "metadata": {},
   "outputs": [],
   "source": [
    "def handle_error(state: AgentState) -> AgentState:\n",
    "    state[\"final_response_to_user\"] = state.get(\"error_message\", \"An unknown error occurred.\")\n",
    "    return END"
   ]
  },
  {
   "cell_type": "code",
   "execution_count": 23,
   "id": "95260f57",
   "metadata": {},
   "outputs": [],
   "source": [
    "workflow = StateGraph(AgentState)\n",
    "\n",
    "# Add nodes\n",
    "workflow.add_node(\"parse_request_node\", parse_request)\n",
    "workflow.add_node(\"ask_clarification_node\", ask_clarification)\n",
    "workflow.add_node(\"book_room_node\", book_room)\n",
    "workflow.add_node(\"handle_error_node\", handle_error)\n",
    "\n",
    "# Set entry point\n",
    "workflow.set_entry_point(\"parse_request_node\")\n",
    "\n",
    "# Add edges\n",
    "workflow.add_conditional_edges(\n",
    "    \"parse_request_node\",\n",
    "    is_clear_request,\n",
    "    {\n",
    "        \"ask_clarification\": \"ask_clarification_node\",\n",
    "        \"book_room\": \"book_room_node\",\n",
    "        \"handle_error\": \"handle_error_node\"\n",
    "    }\n",
    ")\n",
    "workflow.add_edge(\"ask_clarification_node\", END) # Graph pauses for clarification\n",
    "workflow.add_edge(\"book_room_node\", END)\n",
    "workflow.add_edge(\"handle_error_node\", END)\n",
    "\n",
    "# Compile the graph\n",
    "app = workflow.compile()"
   ]
  },
  {
   "cell_type": "code",
   "execution_count": 24,
   "id": "332e3c52",
   "metadata": {},
   "outputs": [
    {
     "name": "stdout",
     "output_type": "stream",
     "text": [
      "---NODE: PARSE REQUEST---\n",
      "Parsed data: start_time='2025-05-13T15:00:00' duration_hours=2 capacity=5 equipments=['projector'] user_name=None clarification_needed=True clarification_question='Could you please provide your name for the booking?'\n",
      "---CONDITION: Check Valid and Clear Request---\n",
      "----> Clarification needed\n",
      "---NODE: ASK CLARIFICATION---\n"
     ]
    }
   ],
   "source": [
    "result = app.invoke({\n",
    "    \"original_request\": \n",
    "    \"Book a room for 5 people with a projector tomorrow at 3 PM for 2 hours.\"\n",
    "})"
   ]
  },
  {
   "cell_type": "code",
   "execution_count": 25,
   "id": "ef4f3019",
   "metadata": {},
   "outputs": [
    {
     "data": {
      "text/markdown": [
       "Could you please provide your name for the booking?"
      ],
      "text/plain": [
       "<IPython.core.display.Markdown object>"
      ]
     },
     "execution_count": 25,
     "metadata": {},
     "output_type": "execute_result"
    }
   ],
   "source": [
    "Markdown(result[\"final_response_to_user\"])"
   ]
  },
  {
   "cell_type": "code",
   "execution_count": null,
   "id": "32261374",
   "metadata": {},
   "outputs": [],
   "source": []
  }
 ],
 "metadata": {
  "kernelspec": {
   "display_name": "agentic_env",
   "language": "python",
   "name": "python3"
  },
  "language_info": {
   "codemirror_mode": {
    "name": "ipython",
    "version": 3
   },
   "file_extension": ".py",
   "mimetype": "text/x-python",
   "name": "python",
   "nbconvert_exporter": "python",
   "pygments_lexer": "ipython3",
   "version": "3.10.16"
  }
 },
 "nbformat": 4,
 "nbformat_minor": 5
}
